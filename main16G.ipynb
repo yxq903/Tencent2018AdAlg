{
 "cells": [
  {
   "cell_type": "code",
   "execution_count": 1,
   "metadata": {},
   "outputs": [],
   "source": [
    "# coding=utf-8\n",
    "# @author:bryan\n",
    "# blog: https://blog.csdn.net/bryan__\n",
    "# github: https://github.com/YouChouNoBB/2018-tencent-ad-competition-baseline\n",
    "import pandas as pd\n",
    "import lightgbm as lgb\n",
    "from sklearn.feature_extraction.text import CountVectorizer\n",
    "from sklearn.preprocessing import OneHotEncoder,LabelEncoder\n",
    "from scipy import sparse\n",
    "import os\n",
    "import gc\n",
    "import math\n",
    "import numpy as np"
   ]
  },
  {
   "cell_type": "code",
   "execution_count": 2,
   "metadata": {},
   "outputs": [],
   "source": [
    "import warnings\n",
    "warnings.filterwarnings(\"ignore\")"
   ]
  },
  {
   "cell_type": "code",
   "execution_count": 3,
   "metadata": {},
   "outputs": [],
   "source": [
    "ad_feature=pd.read_csv('./Oridata/tc2018/adFeature.csv')\n",
    "train=pd.read_csv('./Oridata/tc2018/train.csv')\n",
    "predict=pd.read_csv('./Oridata/tc2018/test1.csv')\n",
    "train.loc[train['label']==-1,'label']=0\n",
    "predict['label']=-1"
   ]
  },
  {
   "cell_type": "code",
   "execution_count": 9,
   "metadata": {},
   "outputs": [
    {
     "name": "stdout",
     "output_type": "stream",
     "text": [
      "(173, 8)\n"
     ]
    },
    {
     "data": {
      "text/html": [
       "<div>\n",
       "<style scoped>\n",
       "    .dataframe tbody tr th:only-of-type {\n",
       "        vertical-align: middle;\n",
       "    }\n",
       "\n",
       "    .dataframe tbody tr th {\n",
       "        vertical-align: top;\n",
       "    }\n",
       "\n",
       "    .dataframe thead th {\n",
       "        text-align: right;\n",
       "    }\n",
       "</style>\n",
       "<table border=\"1\" class=\"dataframe\">\n",
       "  <thead>\n",
       "    <tr style=\"text-align: right;\">\n",
       "      <th></th>\n",
       "      <th>aid</th>\n",
       "      <th>advertiserId</th>\n",
       "      <th>campaignId</th>\n",
       "      <th>creativeId</th>\n",
       "      <th>creativeSize</th>\n",
       "      <th>adCategoryId</th>\n",
       "      <th>productId</th>\n",
       "      <th>productType</th>\n",
       "    </tr>\n",
       "  </thead>\n",
       "  <tbody>\n",
       "    <tr>\n",
       "      <th>0</th>\n",
       "      <td>177</td>\n",
       "      <td>8203</td>\n",
       "      <td>76104</td>\n",
       "      <td>1500666</td>\n",
       "      <td>59</td>\n",
       "      <td>282</td>\n",
       "      <td>0</td>\n",
       "      <td>6</td>\n",
       "    </tr>\n",
       "    <tr>\n",
       "      <th>1</th>\n",
       "      <td>2050</td>\n",
       "      <td>19441</td>\n",
       "      <td>178687</td>\n",
       "      <td>245165</td>\n",
       "      <td>53</td>\n",
       "      <td>1</td>\n",
       "      <td>0</td>\n",
       "      <td>6</td>\n",
       "    </tr>\n",
       "    <tr>\n",
       "      <th>2</th>\n",
       "      <td>1716</td>\n",
       "      <td>5552</td>\n",
       "      <td>158101</td>\n",
       "      <td>1080850</td>\n",
       "      <td>35</td>\n",
       "      <td>27</td>\n",
       "      <td>113</td>\n",
       "      <td>9</td>\n",
       "    </tr>\n",
       "    <tr>\n",
       "      <th>3</th>\n",
       "      <td>336</td>\n",
       "      <td>370</td>\n",
       "      <td>4833</td>\n",
       "      <td>119845</td>\n",
       "      <td>22</td>\n",
       "      <td>67</td>\n",
       "      <td>113</td>\n",
       "      <td>9</td>\n",
       "    </tr>\n",
       "    <tr>\n",
       "      <th>4</th>\n",
       "      <td>671</td>\n",
       "      <td>45705</td>\n",
       "      <td>352827</td>\n",
       "      <td>660519</td>\n",
       "      <td>42</td>\n",
       "      <td>67</td>\n",
       "      <td>0</td>\n",
       "      <td>4</td>\n",
       "    </tr>\n",
       "  </tbody>\n",
       "</table>\n",
       "</div>"
      ],
      "text/plain": [
       "    aid  advertiserId  campaignId  creativeId  creativeSize  adCategoryId  \\\n",
       "0   177          8203       76104     1500666            59           282   \n",
       "1  2050         19441      178687      245165            53             1   \n",
       "2  1716          5552      158101     1080850            35            27   \n",
       "3   336           370        4833      119845            22            67   \n",
       "4   671         45705      352827      660519            42            67   \n",
       "\n",
       "   productId  productType  \n",
       "0          0            6  \n",
       "1          0            6  \n",
       "2        113            9  \n",
       "3        113            9  \n",
       "4          0            4  "
      ]
     },
     "execution_count": 9,
     "metadata": {},
     "output_type": "execute_result"
    }
   ],
   "source": [
    "print(ad_feature.shape)\n",
    "ad_feature.head()"
   ]
  },
  {
   "cell_type": "code",
   "execution_count": 10,
   "metadata": {},
   "outputs": [
    {
     "name": "stdout",
     "output_type": "stream",
     "text": [
      "(8798814, 3)\n"
     ]
    },
    {
     "data": {
      "text/html": [
       "<div>\n",
       "<style scoped>\n",
       "    .dataframe tbody tr th:only-of-type {\n",
       "        vertical-align: middle;\n",
       "    }\n",
       "\n",
       "    .dataframe tbody tr th {\n",
       "        vertical-align: top;\n",
       "    }\n",
       "\n",
       "    .dataframe thead th {\n",
       "        text-align: right;\n",
       "    }\n",
       "</style>\n",
       "<table border=\"1\" class=\"dataframe\">\n",
       "  <thead>\n",
       "    <tr style=\"text-align: right;\">\n",
       "      <th></th>\n",
       "      <th>aid</th>\n",
       "      <th>uid</th>\n",
       "      <th>label</th>\n",
       "    </tr>\n",
       "  </thead>\n",
       "  <tbody>\n",
       "    <tr>\n",
       "      <th>0</th>\n",
       "      <td>699</td>\n",
       "      <td>78508957</td>\n",
       "      <td>0</td>\n",
       "    </tr>\n",
       "    <tr>\n",
       "      <th>1</th>\n",
       "      <td>1991</td>\n",
       "      <td>3637295</td>\n",
       "      <td>0</td>\n",
       "    </tr>\n",
       "    <tr>\n",
       "      <th>2</th>\n",
       "      <td>1119</td>\n",
       "      <td>19229018</td>\n",
       "      <td>0</td>\n",
       "    </tr>\n",
       "    <tr>\n",
       "      <th>3</th>\n",
       "      <td>2013</td>\n",
       "      <td>79277120</td>\n",
       "      <td>0</td>\n",
       "    </tr>\n",
       "    <tr>\n",
       "      <th>4</th>\n",
       "      <td>692</td>\n",
       "      <td>41528441</td>\n",
       "      <td>0</td>\n",
       "    </tr>\n",
       "  </tbody>\n",
       "</table>\n",
       "</div>"
      ],
      "text/plain": [
       "    aid       uid  label\n",
       "0   699  78508957      0\n",
       "1  1991   3637295      0\n",
       "2  1119  19229018      0\n",
       "3  2013  79277120      0\n",
       "4   692  41528441      0"
      ]
     },
     "execution_count": 10,
     "metadata": {},
     "output_type": "execute_result"
    }
   ],
   "source": [
    "print(train.shape)\n",
    "train.head()"
   ]
  },
  {
   "cell_type": "code",
   "execution_count": 11,
   "metadata": {},
   "outputs": [
    {
     "name": "stdout",
     "output_type": "stream",
     "text": [
      "(2265989, 3)\n"
     ]
    },
    {
     "data": {
      "text/html": [
       "<div>\n",
       "<style scoped>\n",
       "    .dataframe tbody tr th:only-of-type {\n",
       "        vertical-align: middle;\n",
       "    }\n",
       "\n",
       "    .dataframe tbody tr th {\n",
       "        vertical-align: top;\n",
       "    }\n",
       "\n",
       "    .dataframe thead th {\n",
       "        text-align: right;\n",
       "    }\n",
       "</style>\n",
       "<table border=\"1\" class=\"dataframe\">\n",
       "  <thead>\n",
       "    <tr style=\"text-align: right;\">\n",
       "      <th></th>\n",
       "      <th>aid</th>\n",
       "      <th>uid</th>\n",
       "      <th>label</th>\n",
       "    </tr>\n",
       "  </thead>\n",
       "  <tbody>\n",
       "    <tr>\n",
       "      <th>0</th>\n",
       "      <td>2118</td>\n",
       "      <td>64355836</td>\n",
       "      <td>-1</td>\n",
       "    </tr>\n",
       "    <tr>\n",
       "      <th>1</th>\n",
       "      <td>692</td>\n",
       "      <td>45051997</td>\n",
       "      <td>-1</td>\n",
       "    </tr>\n",
       "    <tr>\n",
       "      <th>2</th>\n",
       "      <td>692</td>\n",
       "      <td>10869198</td>\n",
       "      <td>-1</td>\n",
       "    </tr>\n",
       "    <tr>\n",
       "      <th>3</th>\n",
       "      <td>1918</td>\n",
       "      <td>75929554</td>\n",
       "      <td>-1</td>\n",
       "    </tr>\n",
       "    <tr>\n",
       "      <th>4</th>\n",
       "      <td>1596</td>\n",
       "      <td>5790162</td>\n",
       "      <td>-1</td>\n",
       "    </tr>\n",
       "  </tbody>\n",
       "</table>\n",
       "</div>"
      ],
      "text/plain": [
       "    aid       uid  label\n",
       "0  2118  64355836     -1\n",
       "1   692  45051997     -1\n",
       "2   692  10869198     -1\n",
       "3  1918  75929554     -1\n",
       "4  1596   5790162     -1"
      ]
     },
     "execution_count": 11,
     "metadata": {},
     "output_type": "execute_result"
    }
   ],
   "source": [
    "print(predict.shape)\n",
    "predict.head()"
   ]
  },
  {
   "cell_type": "code",
   "execution_count": 4,
   "metadata": {},
   "outputs": [],
   "source": [
    "if os.path.exists('./Oridata/tc2018/userFeature.csv'):\n",
    "    user_feature=pd.read_csv('./Oridata/tc2018/userFeature.csv')\n",
    "    "
   ]
  },
  {
   "cell_type": "code",
   "execution_count": null,
   "metadata": {},
   "outputs": [],
   "source": [
    "# 暂时不用\n",
    "else:\n",
    "    print(\"-----------------------------\")\n",
    "    userFeature_data = []\n",
    "    with open('./Oridata/tc2018/userFeature.data', 'r') as f:\n",
    "        cnt = 0\n",
    "        for i, line in enumerate(f):\n",
    "            line = line.strip().split('|')\n",
    "            userFeature_dict = {}\n",
    "            for each in line:\n",
    "                each_list = each.split(' ')\n",
    "                userFeature_dict[each_list[0]] = ' '.join(each_list[1:])\n",
    "            userFeature_data.append(userFeature_dict)\n",
    "            if i % 100000 == 0:\n",
    "                print(i)\n",
    "            if i % 1000000 == 0:\n",
    "                user_feature = pd.DataFrame(userFeature_data)\n",
    "                user_feature.to_csv('../data/userFeature_' + str(cnt) + '.csv', index=False)\n",
    "                cnt += 1\n",
    "                del userFeature_data, user_feature\n",
    "                userFeature_data = []\n",
    "        user_feature = pd.DataFrame(userFeature_data)\n",
    "        user_feature.to_csv('../data/userFeature_' + str(cnt) + '.csv', index=False)\n",
    "        del userFeature_data, user_feature\n",
    "        user_feature = pd.concat(\n",
    "            [pd.read_csv('../data/userFeature_' + str(i) + '.csv') for i in range(cnt + 1)]).reset_index(drop=True)\n",
    "        user_feature.to_csv('./dataAfterProcess16/userFeature.csv', index=False)\n"
   ]
  },
  {
   "cell_type": "code",
   "execution_count": 5,
   "metadata": {},
   "outputs": [
    {
     "data": {
      "text/plain": [
       "(11420039, 24)"
      ]
     },
     "execution_count": 5,
     "metadata": {},
     "output_type": "execute_result"
    }
   ],
   "source": [
    "user_feature.shape"
   ]
  },
  {
   "cell_type": "code",
   "execution_count": 6,
   "metadata": {},
   "outputs": [],
   "source": [
    "def LGB_predict(train_x,train_y,test_x,res,index):\n",
    "    print(\"LGB test\")\n",
    "    clf = lgb.LGBMClassifier(\n",
    "        boosting_type='gbdt', num_leaves=31, reg_alpha=0.0, reg_lambda=1,\n",
    "        max_depth=-1, n_estimators=1500, objective='binary',\n",
    "        subsample=0.7, colsample_bytree=0.7, subsample_freq=1,\n",
    "        learning_rate=0.05, min_child_weight=50, random_state=2018, n_jobs=-1\n",
    "    )\n",
    "    clf.fit(train_x, train_y, eval_set=[(train_x, train_y)], eval_metric='auc',early_stopping_rounds=100)\n",
    "    res['score'+str(index)] = clf.predict_proba(test_x)[:,1]\n",
    "    res['score'+str(index)] = res['score'+str(index)].apply(lambda x: float('%.6f' % x))\n",
    "    print(str(index)+' predict finish!')\n",
    "    res = res.reset_index(drop=True)\n",
    "    print(res.head())\n",
    "    gc.collect()\n",
    "    return res['score'+str(index)]"
   ]
  },
  {
   "cell_type": "code",
   "execution_count": 7,
   "metadata": {},
   "outputs": [],
   "source": [
    "def batch_predict(slice,index):\n",
    "    data=pd.concat([slice,predict])\n",
    "    data=pd.merge(data,ad_feature,on='aid',how='left')\n",
    "    data=pd.merge(data,user_feature,on='uid',how='left')\n",
    "    data=data.fillna('-1')\n",
    "    one_hot_feature=['LBS','age','carrier','consumptionAbility','education','gender','house','os','ct','marriageStatus','advertiserId','campaignId', 'creativeId',\n",
    "           'adCategoryId', 'productId', 'productType']\n",
    "    vector_feature=['appIdAction','appIdInstall','interest1','interest2','interest3','interest4','interest5','kw1','kw2','kw3','topic1','topic2','topic3']\n",
    "    for feature in one_hot_feature:\n",
    "        try:\n",
    "            data[feature] = LabelEncoder().fit_transform(data[feature].apply(int))\n",
    "        except:\n",
    "            data[feature] = LabelEncoder().fit_transform(data[feature])\n",
    "    train=data[data.label!=-1]\n",
    "    train_y=train.pop('label')\n",
    "    test=data[data.label==-1]\n",
    "    res=test[['aid','uid']]\n",
    "    test=test.drop('label',axis=1)\n",
    "    enc = OneHotEncoder()\n",
    "    train_x=train[['creativeSize']]\n",
    "    test_x=test[['creativeSize']]\n",
    "    for feature in one_hot_feature:\n",
    "        enc.fit(data[feature].values.reshape(-1, 1))\n",
    "        train_a=enc.transform(train[feature].values.reshape(-1, 1))\n",
    "        test_a = enc.transform(test[feature].values.reshape(-1, 1))\n",
    "        train_x= sparse.hstack((train_x, train_a))\n",
    "        test_x = sparse.hstack((test_x, test_a))\n",
    "        print(feature+' finish')\n",
    "    print('one-hot prepared !')\n",
    "    cv=CountVectorizer()\n",
    "    for feature in vector_feature:\n",
    "        cv.fit(data[feature])\n",
    "        train_a = cv.transform(train[feature])\n",
    "        test_a = cv.transform(test[feature])\n",
    "        train_x = sparse.hstack((train_x, train_a))\n",
    "        test_x = sparse.hstack((test_x, test_a))\n",
    "        print(feature + ' finish')\n",
    "    print('cv prepared !')\n",
    "    return LGB_predict(train_x, train_y, test_x, res,index)"
   ]
  },
  {
   "cell_type": "code",
   "execution_count": null,
   "metadata": {},
   "outputs": [],
   "source": [
    "#数据分片处理，对每片分别训练预测，然后求平均\n",
    "cnt=20\n",
    "size = math.ceil(len(train) / cnt) # ceil大于或等于的最小整数\n",
    "result=[]\n",
    "for i in range(cnt):\n",
    "    start = size * i\n",
    "    end = (i + 1) * size if (i + 1) * size < len(train) else len(train)\n",
    "    slice = train[start:end]\n",
    "    result.append(batch_predict(slice,i))\n",
    "    gc.collect()\n",
    "\n",
    "result=pd.concat(result,axis=1)\n",
    "result['score']=np.mean(result,axis=1)\n",
    "result=result.reset_index(drop=True)\n",
    "result=pd.concat([predict[['aid','uid']].reset_index(drop=True),result['score']],axis=1)\n",
    "result['score'] = result['score'].apply(lambda x: float('%.6f' % x))\n",
    "result.to_csv('./dataAfterProcess16/submission.csv', index=False)\n",
    "os.system('zip ./dataAfterProcess16/baseline.zip ./dataAfterProcess16/submission.csv')"
   ]
  }
 ],
 "metadata": {
  "kernelspec": {
   "display_name": "Python 3",
   "language": "python",
   "name": "python3"
  },
  "language_info": {
   "codemirror_mode": {
    "name": "ipython",
    "version": 3
   },
   "file_extension": ".py",
   "mimetype": "text/x-python",
   "name": "python",
   "nbconvert_exporter": "python",
   "pygments_lexer": "ipython3",
   "version": "3.6.8"
  }
 },
 "nbformat": 4,
 "nbformat_minor": 2
}
